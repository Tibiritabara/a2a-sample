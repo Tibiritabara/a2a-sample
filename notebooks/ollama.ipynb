{
 "cells": [
  {
   "cell_type": "code",
   "execution_count": 6,
   "metadata": {},
   "outputs": [],
   "source": [
    "from pydantic import BaseModel, Field\n",
    "\n",
    "\n",
    "class JokeOutput(BaseModel):\n",
    "    \"\"\"\n",
    "    Chiste generado\n",
    "    \"\"\"\n",
    "\n",
    "    joke: str = Field(description=\"Chiste generado\")\n"
   ]
  },
  {
   "cell_type": "code",
   "execution_count": 8,
   "metadata": {},
   "outputs": [
    {
     "data": {
      "text/plain": [
       "JokeOutput(joke='¿Por qué los autos no pueden trabajar? ¡Porque siempre están teniendo fallas!')"
      ]
     },
     "execution_count": 8,
     "metadata": {},
     "output_type": "execute_result"
    }
   ],
   "source": [
    "from langchain_core.prompts import (\n",
    "    ChatPromptTemplate,\n",
    ")\n",
    "from langchain_ollama import ChatOllama\n",
    "\n",
    "chat_prompt = ChatPromptTemplate.from_messages(\n",
    "    [\n",
    "        (\n",
    "            \"system\",\n",
    "            \"\"\"Eres un bot comediante. Los usuarios te van a pedir chistes de cualquier tema que deseen\n",
    "            y tu deber es responder con el mejor chiste posible.\"\"\",\n",
    "        ),\n",
    "        (\"user\", \"{input}\"),\n",
    "    ]\n",
    ")\n",
    "\n",
    "chain = chat_prompt | ChatOllama(model=\"gemma3:4b\").with_structured_output(JokeOutput)\n",
    "\n",
    "\n",
    "chain.invoke({\"input\": \"Cuentame un chiste de autos?\"})\n"
   ]
  },
  {
   "cell_type": "code",
   "execution_count": null,
   "metadata": {},
   "outputs": [],
   "source": []
  }
 ],
 "metadata": {
  "kernelspec": {
   "display_name": ".venv",
   "language": "python",
   "name": "python3"
  },
  "language_info": {
   "codemirror_mode": {
    "name": "ipython",
    "version": 3
   },
   "file_extension": ".py",
   "mimetype": "text/x-python",
   "name": "python",
   "nbconvert_exporter": "python",
   "pygments_lexer": "ipython3",
   "version": "3.12.7"
  }
 },
 "nbformat": 4,
 "nbformat_minor": 2
}
